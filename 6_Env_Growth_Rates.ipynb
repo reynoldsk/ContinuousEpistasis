{
 "cells": [
  {
   "cell_type": "markdown",
   "metadata": {},
   "source": [
    "# Growth Rate Calculations for the Gene-by-Environment Library\n",
    "\n",
    "The following code converts raw sgRNA counts in various media conditions to relative growth rates. This is performed by normalizing raw counts to relative counts and fitting a line to the log$_2$(Relative Counts) vs. Generations relationship, then accounting for media effects by scaling relative growth rates within each condition by the absolute growth rate of the nontargeting CRISPRi control strain in a plate reader experiment. The code also removes escapers, averages replicates, and outputs growth rate data for future analysis.\n",
    "\n",
    "8/7/22 - Ryan Otto"
   ]
  },
  {
   "cell_type": "markdown",
   "metadata": {},
   "source": [
    "### Import packages and libraries"
   ]
  },
  {
   "cell_type": "code",
   "execution_count": null,
   "metadata": {},
   "outputs": [],
   "source": [
    "import numpy as np\n",
    "import pandas as pd\n",
    "import pickle\n",
    "import matplotlib.pyplot as plt\n",
    "from scipy import stats\n",
    "from sklearn.metrics import r2_score\n",
    "import warnings\n",
    "import plot_defaults\n",
    "plot_defaults.change_defaults()"
   ]
  },
  {
   "cell_type": "markdown",
   "metadata": {},
   "source": [
    "### Define relevant variables"
   ]
  },
  {
   "cell_type": "code",
   "execution_count": null,
   "metadata": {},
   "outputs": [],
   "source": [
    "date = '220815'\n",
    "input_path = 'input_files'\n",
    "output_path = 'intermediate_files'\n",
    "figure_path = 'Figures'\n",
    "BC_list = ['CATGAT', 'CCATGC', 'TGAAAG']\n",
    "# The following lists deconvolute the media used in turbidostat vials\n",
    "thymidine_dose_int = [0, 0.05, 1, 2, 5, 10, 50]\n",
    "thymidine_dose_str = ['00.00T', '00.05T', '01.00T', '02.00T', '05.00T', '10.00T', '50.00T']\n",
    "methionine_dose_int = [0, 0.01, 0.02, 0.05, 0.1, 0.3, 1.0]\n",
    "methionine_dose_str = ['0.000M', '0.010M', '0.020M', '0.050M', '0.100M', '0.300M', '1.000M']\n",
    "vial_conditions = ['00.00T0.00M', '50.00T0.00M', '10.00T0.00M', '05.00T0.00M', '02.00T0.00M', '01.00T0.00M',\n",
    "                    '00.05T0.00M', '00.00T1.00M', '00.00T0.30M', '00.00T0.10M', '00.00T0.05M', '00.00T0.02M',\n",
    "                    '00.00T0.01M', '05.00T0.01M', '02.00T0.10M', '02.00T0.01M', '01.00T0.10M', '01.00T0.05M',\n",
    "                    '01.00T0.01M', '00.05T0.10M', '00.05T0.05M', '00.05T0.01M']"
   ]
  },
  {
   "cell_type": "markdown",
   "metadata": {},
   "source": [
    "### Import data"
   ]
  },
  {
   "cell_type": "code",
   "execution_count": null,
   "metadata": {},
   "outputs": [],
   "source": [
    "with open(f'{input_path}/env_raw_GR_A.pickle', 'rb') as handle:\n",
    "    env_raw_GR_A = pickle.load(handle)\n",
    "with open(f'{input_path}/env_raw_GR_B.pickle', 'rb') as handle:\n",
    "    env_raw_GR_B = pickle.load(handle)\n",
    "with open(f'{input_path}/q30_filter/qscore30_counts_EnvA.pickle', 'rb') as handle:\n",
    "    pairwise_dict_A = pickle.load(handle)\n",
    "with open(f'{input_path}/q30_filter/qscore30_counts_EnvB.pickle', 'rb') as handle:\n",
    "    pairwise_dict_B = pickle.load(handle)\n",
    "for vial in ['t01', 't02', 't03', 't04', 't08']:  # Unused vials\n",
    "    pairwise_dict_B.pop(vial)\n",
    "for vial in pairwise_dict_B:  # Rename timepoints for convenience\n",
    "    for TP, new_TP in {'T00':'T0', 'T02':'T2', 'T04':'T4', 'T06':'T6', 'T08':'T8', 'T10':'T10'}.items():\n",
    "        pairwise_dict_B[vial][new_TP] = pairwise_dict_B[vial].pop(TP)\n",
    "pairwise_dict = {}\n",
    "for vial, counts in pairwise_dict_A.items():\n",
    "    pairwise_dict[f'{vial}-A'] = counts\n",
    "for vial, counts in pairwise_dict_B.items():\n",
    "    pairwise_dict[f'{vial}-B'] = counts\n",
    "sgRNA_list = list(pairwise_dict['t1-A']['T0']['CATGAT'].keys())\n",
    "with open(f'{output_path}/220815_repression_mean.pickle', 'rb') as handle:\n",
    "    repression_mean = pickle.load(handle)\n",
    "repression_mean_subset = {gene:repression_mean[gene] for gene in ['folA', 'thyA']}  # Subset genes of interest\n",
    "for gene in repression_mean_subset:  # Sort by qPCR data\n",
    "    repression_mean_subset[gene] = {k: v for k, v in sorted(repression_mean_subset[gene].items(),\n",
    "                                                            key=lambda item: item[1])}"
   ]
  },
  {
   "cell_type": "markdown",
   "metadata": {},
   "source": [
    "### Define analysis functions"
   ]
  },
  {
   "cell_type": "code",
   "execution_count": null,
   "metadata": {},
   "outputs": [],
   "source": [
    "def growth_rate(sgRNA1, sgRNA2, BC_ID, dict_log, count_dict):\n",
    "    \"\"\"Calculates growth rate for a given barcoded sgRNA construct\n",
    "    Arguments:\n",
    "    sgRNA1: Name of position 1 sgRNA\n",
    "    sgRNA2: Name of position 2 sgRNA\n",
    "    BC_ID: Barcode identity\n",
    "    dict_log: Dictionary containing log2-transformed relative frequencies\n",
    "    count_dict: Dictionary contining CRISPRi construct counts at each timepoint\n",
    "    TPs_hours: Timepoints (hours)\n",
    "    TPs_gens: Timepoints (generations)\n",
    "    Returns:\n",
    "    m: Growth rate (slope) of CRISPRi construct\n",
    "    \"\"\"\n",
    "    TPs = np.array([int(x[1:]) for x in count_dict])\n",
    "    temp_vals = np.array([dict_log[TP][BC_ID][sgRNA1][sgRNA2] for TP in dict_log])\n",
    "    temp_vals_counts = np.array([count_dict[TP][BC_ID][sgRNA1][sgRNA2] for TP in count_dict])\n",
    "    for i, count in enumerate(temp_vals_counts):\n",
    "        if count < 10:  # Filter so it won't fit any points after a point that is < 10\n",
    "            temp_vals = temp_vals[:i+1]\n",
    "            temp_vals_counts = temp_vals_counts[:i+1]\n",
    "            TPs = TPs[:i+1]\n",
    "            break\n",
    "    mask = ~np.isnan(temp_vals)  # Mask removes nan values\n",
    "    if len(TPs[mask]) >= 3:  # Don't fit less than three points\n",
    "        m, _, _, _, _ = stats.linregress(TPs[mask], temp_vals[mask])\n",
    "    else:\n",
    "        m = np.nan\n",
    "    return m\n",
    "\n",
    "\n",
    "def qtest_dixon(replicates):\n",
    "    \"\"\"One-sided Dixon Q test at 95% confidence: Statistical test used for identyfing outliers in data set\n",
    "    https://www.philadelphia.edu.jo/academics/ajaber/uploads/0501522-Chapter%203-Statiscal%20tests.pdf\n",
    "    Used here to identify CRISPRi escapers: replicates with abnormally fast growth rates\n",
    "    Argument:\n",
    "    replicates: List of growth rate replicates to test for an outlier\n",
    "    Returns:\n",
    "    rep_sorted[:-1] or replicates: If an escaper was found, removes it. Otherwise, returns all replicates\n",
    "    rep_sorted[-1] or np.nan: If an escaper was found, returns the escaper. Otherwise, returns nan.\n",
    "    \"\"\"\n",
    "    Q30 = [0, 0, 0.941, 0.765, 0.642, 0.560]  # One-sided values, 95% confidence\n",
    "    if len(replicates) >= 4:\n",
    "        rep_sorted = sorted(replicates)\n",
    "        gap = abs(rep_sorted[-2] - rep_sorted[-1])\n",
    "        rep_range = rep_sorted[-1] - rep_sorted[0]\n",
    "        if rep_range != 0:  # If all values are equal, can't run this test\n",
    "            Q_val = gap / rep_range\n",
    "            if Q_val >= Q30[len(replicates)-1]:\n",
    "                return rep_sorted[:-1], rep_sorted[-1]\n",
    "    return replicates, np.nan\n",
    "\n",
    "\n",
    "def nanrms(x, axis=None):\n",
    "    \"\"\"Self-defined root mean square function. Used for convenience and consistency.\n",
    "    Arguments:\n",
    "    x: Array of residuals\n",
    "    axis: In case of an array of arrays, enter the desired axis to calculate across\n",
    "    Directly returns the RMSD of the residuals provided\n",
    "    \"\"\"\n",
    "    return np.sqrt(np.nanmean(x**2, axis=axis))\n",
    "\n",
    "\n",
    "def plot_correlation(x_list, y_list, x_label, y_label, min_value, max_value, file_name=None, path=None):\n",
    "    \"\"\"Function for making standard correlation plots\n",
    "    Arguments:\n",
    "    x_list: x-axis data coordinates\n",
    "    y_list: y-axis data coordinates\n",
    "    x_label: x-axis label\n",
    "    y_label: y-axis label\n",
    "    min_value: Minimum value on graph\n",
    "    max_value: Maximum value on graph\n",
    "    file_name: Name of saved file\n",
    "    path: Path for figure output\n",
    "    \"\"\"\n",
    "    fig, ax = plt.subplots(figsize=(6, 6))\n",
    "    ax.scatter(x_list, y_list, color='xkcd:dark gray', alpha=0.1)\n",
    "    ax.plot([min_value, max_value], [min_value, max_value], ls='--', color='xkcd:gray', lw=1, zorder=0)\n",
    "    ax.set_xlim(min_value, max_value)\n",
    "    ax.set_ylim(min_value, max_value)\n",
    "    ax.set_xlabel(x_label, fontsize=16)\n",
    "    ax.set_ylabel(y_label, fontsize=16)\n",
    "    x_list, y_list = np.array(x_list), np.array(y_list)\n",
    "    mask1 = ~np.isnan(x_list) & ~np.isnan(y_list)  # Mask for shared values\n",
    "    x_masked, y_masked = x_list[mask1], y_list[mask1]\n",
    "    ax.text(max_value-0.5, min_value+0.1, f'R$^2$ = {np.round(r2_score(x_masked, y_masked), 2)}', fontsize=16)\n",
    "    plt.tight_layout()\n",
    "    if file_name:\n",
    "        plt.savefig(f'{path}/{file_name}.pdf')\n",
    "    plt.show()\n",
    "    return"
   ]
  },
  {
   "cell_type": "markdown",
   "metadata": {},
   "source": [
    "### Calculate relative sgRNA frequency and growth rates\n",
    "\n",
    "We first normalize raw counts by the nontargeting construct at each timepoint. Then we normalize relative frequencies at every timepoint by the relative frequency at $T_0$. For all constructs with counts present through the first three timepoints, we fit a line to $log_2$(relative frequency) vs. time data. The slope of this line is the construct's relative growth rate effect.\n",
    "\n",
    "$relative frequency_{a,T}$ = $\\frac{counts_{a,T} / counts_{Nont,T}}{counts_{a,T_0} / counts_{Nont,T_0}}$"
   ]
  },
  {
   "cell_type": "code",
   "execution_count": null,
   "metadata": {
    "scrolled": true
   },
   "outputs": [],
   "source": [
    "norm_dict = {}\n",
    "for vial in pairwise_dict:\n",
    "    norm_dict[vial] = {}\n",
    "    for TP in pairwise_dict[vial]:\n",
    "        norm_dict[vial][TP] = {}\n",
    "        for BC in BC_list:\n",
    "            norm_dict[vial][TP][BC] = pd.DataFrame(np.zeros([len(sgRNA_list), len(sgRNA_list)]), sgRNA_list,\n",
    "                                                   sgRNA_list)\n",
    "            for sgRNA1 in sgRNA_list:\n",
    "                for sgRNA2 in sgRNA_list:\n",
    "                    norm_dict[vial][TP][BC].loc[sgRNA1, sgRNA2] = pairwise_dict[vial][TP][BC].loc[sgRNA1, sgRNA2] \\\n",
    "                                                  / pairwise_dict[vial][TP][BC].loc['negC_rand_42', 'negC_rand_42']\n",
    "norm_norm_dict = {}\n",
    "for vial in pairwise_dict:\n",
    "    norm_norm_dict[vial] = {}\n",
    "    for TP in norm_dict[vial]:\n",
    "        norm_norm_dict[vial][TP] = {}\n",
    "        for BC in BC_list:\n",
    "            norm_norm_dict[vial][TP][BC] = pd.DataFrame(np.zeros([len(sgRNA_list), len(sgRNA_list)]), sgRNA_list,\n",
    "                                                        sgRNA_list)\n",
    "            for sgRNA1 in sgRNA_list:\n",
    "                for sgRNA2 in sgRNA_list:\n",
    "                    norm_norm_dict[vial][TP][BC].loc[sgRNA1, sgRNA2] = norm_dict[vial][TP][BC].loc[sgRNA1, sgRNA2] \\\n",
    "                                                                     / norm_dict[vial]['T0'][BC].loc[sgRNA1, sgRNA2]\n",
    "df_normed = {}\n",
    "for vial in pairwise_dict:\n",
    "    df_normed[vial] = {}\n",
    "    for TP in norm_norm_dict[vial]:\n",
    "        df_normed[vial][TP] = {}\n",
    "        for BC in BC_list:\n",
    "            df_normed[vial][TP][BC] = pd.DataFrame(np.zeros([len(sgRNA_list), len(sgRNA_list)]), sgRNA_list,\n",
    "                                                   sgRNA_list)\n",
    "            for sgRNA1 in sgRNA_list:\n",
    "                for sgRNA2 in sgRNA_list:\n",
    "                    temp_norm_norm = norm_norm_dict[vial][TP][BC].loc[sgRNA1, sgRNA2]\n",
    "                    if temp_norm_norm != 0:\n",
    "                        df_normed[vial][TP][BC].loc[sgRNA1, sgRNA2] = np.log2(temp_norm_norm)\n",
    "                    else:\n",
    "                        df_normed[vial][TP][BC].loc[sgRNA1, sgRNA2] = np.nan"
   ]
  },
  {
   "cell_type": "markdown",
   "metadata": {},
   "source": [
    "### Restructure data and rescale growth rates by environment\n",
    "\n",
    "Relative growth rates are rescaled by the absolute growth rate of the nontargeting CRISPRi control in the relevant media condition using the following formula. Consider CRISPRi perturbation a and media condition m.\n",
    "\n",
    "Rescaled GR$_{a,m}$ = $\\frac{Relative GR_{a,m} + Absolute GR_{Nont,m}}{Absolute GR_{Nont,M9}}$"
   ]
  },
  {
   "cell_type": "code",
   "execution_count": null,
   "metadata": {},
   "outputs": [],
   "source": [
    "scaled_growth_df = pd.DataFrame(columns = ['Indices', 'folA KD', 'thyA KD', 'thymidine []', 'methionine []', 'gr1',\n",
    "                                           'gr2', 'gr3', 'gr4', 'gr5', 'gr6', 'Mean GR', 'GR SEM'])\n",
    "for vial in pairwise_dict:\n",
    "    for i, sgRNA1 in enumerate(sgRNA_list):\n",
    "        for sgRNA2 in sgRNA_list[i:]:\n",
    "            gene1, gene2 = sgRNA1[0:4], sgRNA2[0:4]\n",
    "            if gene1 != gene2 or gene1 == 'negC' == gene2:  # Only doing crosses of unique targets except negC x negC\n",
    "                # Identify the perturbations used and each perturbation's index in our lists\n",
    "                thymidine_dose = float(vial_conditions[list(pairwise_dict.keys()).index(vial)][0:5])\n",
    "                thymidine_idx = str(thymidine_dose_int.index(\\\n",
    "                                                float(vial_conditions[list(pairwise_dict.keys()).index(vial)][0:5])))\n",
    "                methionine_dose = float(vial_conditions[list(pairwise_dict.keys()).index(vial)][6:10])\n",
    "                methionine_idx = str(methionine_dose_int.index(\\\n",
    "                                                float(vial_conditions[list(pairwise_dict.keys()).index(vial)][6:10])))\n",
    "                if gene1 == 'folA':\n",
    "                    folA_dose = repression_mean_subset[gene1][sgRNA1]\n",
    "                else:\n",
    "                    folA_dose = 0\n",
    "                folA_idx = str(list(repression_mean_subset['folA'].values()).index(folA_dose))\n",
    "                if gene2 == 'thyA':\n",
    "                    thyA_dose = repression_mean_subset[gene2][sgRNA2]\n",
    "                else:\n",
    "                    thyA_dose = 0\n",
    "                thyA_idx = str(list(repression_mean_subset['thyA'].values()).index(thyA_dose))\n",
    "                # Concatenate all perturbation indices\n",
    "                Index_holder = f'{thymidine_idx}_{methionine_idx}_{folA_idx}_{thyA_idx}'\n",
    "                media_used = thymidine_dose_str[int(thymidine_idx)] + methionine_dose_str[int(methionine_idx)]\n",
    "                gr_reps = []\n",
    "                for BC in BC_list:\n",
    "                    gr_reps.append(growth_rate(sgRNA1, sgRNA2, BC, df_normed[vial], pairwise_dict[vial]))\n",
    "                    if sgRNA1 != sgRNA2:  # Nontargeting-Nontargeting is only measured 3 times\n",
    "                        gr_reps.append(growth_rate(sgRNA2, sgRNA1, BC, df_normed[vial], pairwise_dict[vial]))\n",
    "                    else:\n",
    "                        gr_reps.append(np.nan)\n",
    "                # Rescale the growth rate by the absolute growth rates in media and M9\n",
    "                if media_used in env_raw_GR_B:  # Determine which plate reader experiment used this media condition\n",
    "                    s_gr = env_raw_GR_B[media_used]\n",
    "                    m9_gr = env_raw_GR_B['00.00T0.000M']\n",
    "                else:\n",
    "                    s_gr = env_raw_GR_A[media_used]\n",
    "                    m9_gr = env_raw_GR_A['00.00T0.000M']\n",
    "                gr_reps = [(x+s_gr) / m9_gr for x in gr_reps]\n",
    "                scaled_growth_df.loc[len(scaled_growth_df.index)] = [Index_holder, folA_dose, thyA_dose,\n",
    "                                        thymidine_dose, methionine_dose, gr_reps[0], gr_reps[1], gr_reps[2],\n",
    "                                        gr_reps[3], gr_reps[4], gr_reps[5], np.nan, np.nan]\n",
    "# Calculate mean and sem of growth rate replicates\n",
    "for i in scaled_growth_df.index:\n",
    "    full_gr = list(scaled_growth_df.loc[i, 'gr1':'gr6'].values)\n",
    "    if sum(~np.isnan(full_gr)) > 1:\n",
    "        scaled_growth_df.loc[i, 'Mean GR':'GR SEM'] = [np.nanmean(full_gr), stats.sem(full_gr, nan_policy='omit')]\n",
    "    elif sum(~np.isnan(full_gr)) == 1:\n",
    "        scaled_growth_df.loc[i, 'Mean GR':'GR SEM'] = [np.nanmean(full_gr), np.nan]"
   ]
  },
  {
   "cell_type": "markdown",
   "metadata": {},
   "source": [
    "### Compare growth rate replicates\n",
    "\n",
    "Comparing rescaled growth rates between barcoded replicates and sgRNA orders, as done previously."
   ]
  },
  {
   "cell_type": "code",
   "execution_count": null,
   "metadata": {},
   "outputs": [],
   "source": [
    "BC1_list = np.concatenate((scaled_growth_df['gr1'].values, scaled_growth_df['gr2'].values))\n",
    "BC2_list = np.concatenate((scaled_growth_df['gr3'].values, scaled_growth_df['gr4'].values))\n",
    "BC3_list = np.concatenate((scaled_growth_df['gr5'].values, scaled_growth_df['gr6'].values))\n",
    "with warnings.catch_warnings():  # If we have no growth rates for a condition, returning nan is fine\n",
    "    warnings.filterwarnings('ignore', category=RuntimeWarning)\n",
    "    order1_list = [np.nanmean([x1, x2, x3]) for x1, x2, x3 in zip(scaled_growth_df['gr1'].values,\n",
    "                                                scaled_growth_df['gr2'].values, scaled_growth_df['gr3'].values)]\n",
    "    order2_list = [np.nanmean([x1, x2, x3]) for x1, x2, x3 in zip(scaled_growth_df['gr4'].values,\n",
    "                                                scaled_growth_df['gr5'].values, scaled_growth_df['gr6'].values)]\n",
    "min_BC = np.nanmin([np.concatenate((BC1_list, BC2_list, BC3_list))]) - 0.1\n",
    "max_BC = np.nanmax([np.concatenate((BC1_list, BC2_list, BC3_list))]) + 0.1"
   ]
  },
  {
   "cell_type": "code",
   "execution_count": null,
   "metadata": {},
   "outputs": [],
   "source": [
    "plot_correlation(BC1_list, BC2_list, 'BC1', 'BC2', min_BC, max_BC, 'FigS10A', figure_path)\n",
    "plot_correlation(BC1_list, BC3_list, 'BC1', 'BC3', min_BC, max_BC, 'FigS10B', figure_path)\n",
    "plot_correlation(BC2_list, BC3_list, 'BC2', 'BC3', min_BC, max_BC, 'FigS10C', figure_path)\n",
    "plot_correlation(order1_list, order2_list, 'sgRNA1-sgRNA2', 'sgRNA2-sgRNA1', -0.25, 2, 'FigS10D', figure_path)"
   ]
  },
  {
   "cell_type": "markdown",
   "metadata": {},
   "source": [
    "### Escaper correction and growth rate averaging\n",
    "\n",
    "Remove escapers and average growth rate replicates, as described previously. For all CRISPRi perturbations except the nontargeting control, at least 4 replicates must remain following escaper filtering for an average to be taken."
   ]
  },
  {
   "cell_type": "code",
   "execution_count": null,
   "metadata": {},
   "outputs": [],
   "source": [
    "scaled_growth_filt_df = pd.DataFrame(columns = ['Indices', 'folA KD', 'thyA KD', 'thymidine []', 'methionine []',\n",
    "                                                'Mean GR', 'GR SEM'])\n",
    "escaper_dict = {}\n",
    "for index, row in scaled_growth_df.iterrows():\n",
    "    values = scaled_growth_df.loc[index, 'gr1':'gr6'].values\n",
    "    filt_values, escaper_val = qtest_dixon(values[~np.isnan(list(values))])  # Mask nans before filtering\n",
    "    if ~np.isnan(escaper_val):\n",
    "        escaper_dict[scaled_growth_df.loc[index, 'Indices']] = escaper_val\n",
    "    if scaled_growth_df.loc[index, 'Indices'].endswith('0_0'):  # Nontargeting-Nontargeting has only 3 replicates\n",
    "        req_vals = 3\n",
    "    else:\n",
    "        req_vals = 4\n",
    "    if len(filt_values) >= req_vals:\n",
    "        scaled_growth_filt_df.loc[len(scaled_growth_filt_df)] = \\\n",
    "                    [scaled_growth_df.loc[index, 'Indices'], scaled_growth_df.loc[index, 'folA KD'],\n",
    "                     scaled_growth_df.loc[index, 'thyA KD'], scaled_growth_df.loc[index, 'thymidine []'],\n",
    "                     scaled_growth_df.loc[index, 'methionine []'], np.nanmean(filt_values), stats.sem(filt_values)]\n",
    "    else:\n",
    "        scaled_growth_filt_df.loc[len(scaled_growth_filt_df)] = \\\n",
    "                    [scaled_growth_df.loc[index, 'Indices'], scaled_growth_df.loc[index, 'folA KD'],\n",
    "                     scaled_growth_df.loc[index, 'thyA KD'], scaled_growth_df.loc[index, 'thymidine []'],\n",
    "                     scaled_growth_df.loc[index, 'methionine []'], np.nan, np.nan]\n",
    "print(f'Total escapers: {len(escaper_dict)}')\n",
    "print(f\"\\\n",
    "{np.round(len(escaper_dict)/sum(~np.isnan(scaled_growth_df.loc[:, 'gr1':'gr6'].values.flatten()))*100, 2)}% of data\")\n",
    "# Rearrange into a 4D array for exporting\n",
    "growth_rates_mean = np.full((len(thymidine_dose_int), len(methionine_dose_int), len(repression_mean_subset['folA']),\n",
    "                              len(repression_mean_subset['thyA'])), np.nan)\n",
    "for index, row in scaled_growth_filt_df.iterrows():\n",
    "        idx = [int(i) for i in scaled_growth_filt_df.loc[index, 'Indices'].split('_')]\n",
    "        growth_rates_mean[idx[0], idx[1], idx[2], idx[3]] = scaled_growth_filt_df.loc[index, 'Mean GR']"
   ]
  },
  {
   "cell_type": "code",
   "execution_count": null,
   "metadata": {},
   "outputs": [],
   "source": [
    "fig, ax = plt.subplots(figsize=(4, 4))\n",
    "ax.scatter(scaled_growth_df['Mean GR'].values, scaled_growth_filt_df['Mean GR'].values, marker='o',\n",
    "           color='xkcd:dark gray')\n",
    "ax.plot([-0.05, 2], [-0.05, 2], ls='--', color='xkcd:dark gray', zorder=0)\n",
    "ax.text(1.3, 0.05, 'GR Mean', fontsize=16)\n",
    "ax.set_xlim(-0.05, 2)\n",
    "ax.set_ylim(-0.05, 2)\n",
    "ax.set_xticks([0, 1, 2])\n",
    "ax.set_yticks([0, 1, 2])\n",
    "ax.set_xlabel('No Correction', fontsize=16)\n",
    "ax.set_ylabel('Escaper Corrected', fontsize=16)\n",
    "plt.tight_layout()\n",
    "plt.savefig(f'{figure_path}/FigS10E.pdf')\n",
    "plt.show()\n",
    "fig, ax = plt.subplots(figsize=(4, 4))\n",
    "ax.scatter(scaled_growth_df['GR SEM'].values, scaled_growth_filt_df['GR SEM'].values, marker='o',\n",
    "           color='xkcd:dark gray')\n",
    "ax.plot([-0.02, 0.2], [-0.02, 0.2], ls='--', color='xkcd:dark gray', zorder=0)\n",
    "ax.set_xlim(-0.02, 0.2)\n",
    "ax.set_ylim(-0.02, 0.2)\n",
    "ax.set_xticks([0, 0.1, 0.2])\n",
    "ax.set_yticks([0, 0.1, 0.2])\n",
    "ax.set_xlabel('No Correction', fontsize=16)\n",
    "ax.set_ylabel('Escaper Corrected', fontsize=16)\n",
    "ax.text(0.11, 0, 'GR SEM', fontsize=16)\n",
    "plt.tight_layout()\n",
    "plt.savefig(f'{figure_path}/FigS10F.pdf')\n",
    "plt.show()"
   ]
  },
  {
   "cell_type": "markdown",
   "metadata": {},
   "source": [
    "### Visualize growth rate data"
   ]
  },
  {
   "cell_type": "code",
   "execution_count": null,
   "metadata": {},
   "outputs": [],
   "source": [
    "fig, ax = plt.subplots(7, 7, figsize=(49, 49))\n",
    "for i in range(7):\n",
    "    for j in range(7):\n",
    "        cb = ax[i, j].imshow(growth_rates_mean[i, j, :, :], cmap=\"RdBu_r\", vmin=0, vmax=2)\n",
    "        ax[i, j].set_facecolor(\"darkgrey\")\n",
    "        ax[i, j].set_xticks([])\n",
    "        ax[i, j].set_yticks([])\n",
    "        ax[i, j].spines[['top', 'right']].set_visible(True)\n",
    "fig.text(0.5, 0.1, '[Methionine] (mM) -->', ha='center', va='center', fontsize=80)\n",
    "fig.text(0.1, 0.5, '<-- [Thymidine] (ng/uL)', ha='center', va='center', rotation='vertical', fontsize=80)\n",
    "plt.colorbar(cb, ax=ax.ravel().tolist())\n",
    "plt.savefig(f'{figure_path}/Fig6C.pdf', transparent=False)\n",
    "plt.show()"
   ]
  },
  {
   "cell_type": "markdown",
   "metadata": {},
   "source": [
    "### Export data"
   ]
  },
  {
   "cell_type": "code",
   "execution_count": null,
   "metadata": {},
   "outputs": [],
   "source": [
    "with open(f'{output_path}/{date}_growth_rates_mean.pickle', 'wb') as handle:\n",
    "    pickle.dump(growth_rates_mean, handle, protocol=pickle.HIGHEST_PROTOCOL)\n",
    "with open(f'{output_path}/{date}_repression_mean_subset.pickle', 'wb') as handle:\n",
    "    pickle.dump(repression_mean_subset, handle, protocol=pickle.HIGHEST_PROTOCOL)\n",
    "with pd.ExcelWriter(f'Supplementary_Tables.xlsx', mode='a', if_sheet_exists='replace') as writer:  \n",
    "    scaled_growth_filt_df.to_excel(writer, sheet_name='Table S6')"
   ]
  },
  {
   "cell_type": "code",
   "execution_count": null,
   "metadata": {},
   "outputs": [],
   "source": []
  }
 ],
 "metadata": {
  "kernelspec": {
   "display_name": "Python 3 (ipykernel)",
   "language": "python",
   "name": "python3"
  },
  "language_info": {
   "codemirror_mode": {
    "name": "ipython",
    "version": 3
   },
   "file_extension": ".py",
   "mimetype": "text/x-python",
   "name": "python",
   "nbconvert_exporter": "python",
   "pygments_lexer": "ipython3",
   "version": "3.9.12"
  }
 },
 "nbformat": 4,
 "nbformat_minor": 4
}

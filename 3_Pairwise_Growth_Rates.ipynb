{
 "cells": [
  {
   "cell_type": "markdown",
   "metadata": {},
   "source": [
    "# Growth Rate Calculations for the Pairwise Library\n",
    "\n",
    "The following code converts raw sgRNA counts to relative growth rates for the entire pairwise sgRNA library. This is performed by normalizing raw counts to relative counts and fitting a line to the log$_2$(Relative Counts) vs. Generations relationship. The code also removes escapers, averages replicates, and rescales growth rates to an intuitive, non-negative scale.\n",
    "\n",
    "6/28/22 - Ryan Otto"
   ]
  },
  {
   "cell_type": "markdown",
   "metadata": {},
   "source": [
    "### Import packages and libraries"
   ]
  },
  {
   "cell_type": "code",
   "execution_count": null,
   "metadata": {},
   "outputs": [],
   "source": [
    "import pandas as pd\n",
    "import numpy as np\n",
    "import pickle\n",
    "import matplotlib.pyplot as plt\n",
    "from scipy import stats\n",
    "from sklearn.metrics import r2_score\n",
    "import plot_defaults\n",
    "plot_defaults.change_defaults()"
   ]
  },
  {
   "cell_type": "markdown",
   "metadata": {},
   "source": [
    "### Define relevant variables"
   ]
  },
  {
   "cell_type": "code",
   "execution_count": null,
   "metadata": {},
   "outputs": [],
   "source": [
    "date = '220815'  # Date for output files\n",
    "figure_path = 'Figures'  # Path for figure output\n",
    "file_path = 'intermediate_files'  # Path for data files\n",
    "input_path = 'input_files'\n",
    "TPs = [0, 2, 4, 6, 8, 10, 12, 14]\n",
    "gene_names = ['dapA', 'dapB', 'gdhA', 'gltB', 'folA', 'thyA', 'glyA', 'purN', 'purL']\n",
    "BC_list = ['TGAAAG', 'CCATGC', 'CATGAT']"
   ]
  },
  {
   "cell_type": "markdown",
   "metadata": {},
   "source": [
    "### Import data "
   ]
  },
  {
   "cell_type": "code",
   "execution_count": null,
   "metadata": {},
   "outputs": [],
   "source": [
    "with open(f'{input_path}/turbidostat_GR.pickle', 'rb') as handle:\n",
    "    turb_gr = pickle.load(handle)\n",
    "gr_TPs = np.array([x*turb_gr['pairwise'] for x in TPs])  # Timepoints rescaled to generations\n",
    "with open(f'{file_path}/220815_qscore30_sgRNA_counts.pickle', 'rb') as handle:\n",
    "    pairwise_dict = pickle.load(handle)  # sgRNA counts\n",
    "with open(f'{file_path}/220815_repression_mean.pickle', 'rb') as handle:\n",
    "    qPCR_vals = pickle.load(handle)  # qPCR data\n",
    "with open(f'{file_path}/220815_repression_sem.pickle', 'rb') as handle:\n",
    "    qPCR_sem = pickle.load(handle)  # qPCR data\n",
    "sgRNA_list = ['negC_rand_42']\n",
    "for gene in gene_names:\n",
    "    # For each gene, sort sgRNA names by their CRISPRi repression strength against their target\n",
    "    match_sgRNAs = [sg for sg in sorted(qPCR_vals[gene], key=qPCR_vals[gene].get) if sg != 'negC_rand_42']\n",
    "    sgRNA_list += match_sgRNAs\n",
    "with open(f'{input_path}/20200923_glu_growth_rates_TableS5.csv', 'rb') as handle:\n",
    "    prior_gr_data = pd.read_csv(handle, index_col=[0])  # Prior data"
   ]
  },
  {
   "cell_type": "markdown",
   "metadata": {},
   "source": [
    "### Define analysis functions"
   ]
  },
  {
   "cell_type": "code",
   "execution_count": null,
   "metadata": {},
   "outputs": [],
   "source": [
    "def growth_rate(sgRNA1, sgRNA2, gr_dict, count_dict, TPs_hours, TPs_gens, BC_ID):\n",
    "    \"\"\"Calculates growth rate for a given barcoded sgRNA construct\n",
    "    Arguments:\n",
    "    sgRNA1: Name of position 1 sgRNA\n",
    "    sgRNA2: Name of position 2 sgRNA\n",
    "    BC_ID: Barcode identity\n",
    "    gr_dict: Dictionary containing log2-transformed relative frequencies\n",
    "    count_dict: Dictionary contining CRISPRi construct counts at each timepoint\n",
    "    TPs_hours: Timepoints (hours)\n",
    "    TPs_gens: Timepoints (generations)\n",
    "    Returns:\n",
    "    m: Growth rate (slope) of CRISPRi construct\n",
    "    b: Intercept of log2(relative frequency) to generations best fit line\n",
    "    \"\"\"\n",
    "    rel_freq = np.array([gr_dict[TP][BC_ID].loc[sgRNA1, sgRNA2] for TP in TPs_hours])\n",
    "    counts = np.array([count_dict[TP][BC_ID].loc[sgRNA1, sgRNA2] for TP in TPs_hours])\n",
    "    for i, count in enumerate(counts):\n",
    "        if count < 10:  # If counts fall below our minimum threshold, don't count subsequent timepoints\n",
    "            if ~np.isnan(rel_freq[i]):  # If the construct isn't absent, include this point and no future ones\n",
    "                rel_freq = rel_freq[:i + 1]\n",
    "                TPs_gens = TPs_gens[:i + 1]\n",
    "            else:  # If counts are zero, don't include this point or future ones\n",
    "                rel_freq = rel_freq[:i]\n",
    "                TPs_gens = TPs_gens[:i]\n",
    "            break\n",
    "    if len(TPs_gens) >= 3:  # Don't fit fewer than three points\n",
    "        m, b, _, _, _ = stats.linregress(TPs_gens, rel_freq)\n",
    "        return m, b\n",
    "    else:\n",
    "        return np.nan, np.nan\n",
    "\n",
    "\n",
    "def plot_correlation(x_list, y_list, x_label, y_label, min_value, max_value, file_name=None, path=None):\n",
    "    \"\"\"Function for making standard correlation plots\n",
    "    Arguments:\n",
    "    x_list: x-axis data coordinates\n",
    "    y_list: y-axis data coordinates\n",
    "    x_label: x-axis label\n",
    "    y_label: y-axis label\n",
    "    min_value: Minimum value on graph\n",
    "    max_value: Maximum value on graph\n",
    "    file_name: Name of saved file\n",
    "    path: Path for figure output\n",
    "    \"\"\"\n",
    "    fig, ax = plt.subplots(figsize=(6, 6))\n",
    "    ax.scatter(x_list, y_list, color='xkcd:dark gray', alpha=0.1)\n",
    "    ax.plot([min_value, max_value], [min_value, max_value], ls='--', color='xkcd:gray', lw=1, zorder=0)\n",
    "    ax.set_xlim(min_value, max_value)\n",
    "    ax.set_ylim(min_value, max_value)\n",
    "    ax.set_xlabel(x_label, fontsize=16)\n",
    "    ax.set_ylabel(y_label, fontsize=16)\n",
    "    x_list, y_list = np.array(x_list), np.array(y_list)\n",
    "    mask1 = ~np.isnan(x_list) & ~np.isnan(y_list)  # Mask for shared values\n",
    "    x_masked, y_masked = x_list[mask1], y_list[mask1]\n",
    "    ax.text(max_value-0.5, min_value+0.1, f'R$^2$ = {np.round(r2_score(x_masked, y_masked), 2)}', fontsize=16)\n",
    "    if file_name:\n",
    "        plt.savefig(f'{path}/{file_name}.pdf')\n",
    "    plt.show()\n",
    "    return\n",
    "\n",
    "\n",
    "def qtest_dixon(replicates):\n",
    "    \"\"\"One-sided Dixon Q test at 95% confidence: Statistical test used for identyfing outliers in data set\n",
    "    https://www.philadelphia.edu.jo/academics/ajaber/uploads/0501522-Chapter%203-Statiscal%20tests.pdf\n",
    "    Used here to identify CRISPRi escapers: replicates with abnormally fast growth rates\n",
    "    Argument:\n",
    "    replicates: List of growth rate replicates to test for an outlier\n",
    "    Returns:\n",
    "    rep_sorted[:-1] or replicates: If an escaper was found, removes it. Otherwise, returns all replicates\n",
    "    rep_sorted[-1] or np.nan: If an escaper was found, returns the escaper. Otherwise, returns nan.\n",
    "    \"\"\"\n",
    "    Q30 = [0, 0, 0.941, 0.765, 0.642, 0.560]  # One-sided values, 95% confidence\n",
    "    if len(replicates) >= 4:\n",
    "        rep_sorted = sorted(replicates)\n",
    "        gap = abs(rep_sorted[-2] - rep_sorted[-1])\n",
    "        rep_range = rep_sorted[-1] - rep_sorted[0]\n",
    "        if rep_range != 0:  # If all values are equal, can't run this test\n",
    "            Q_val = gap / rep_range\n",
    "            if Q_val >= Q30[len(replicates)-1]:\n",
    "                return rep_sorted[:-1], rep_sorted[-1]\n",
    "    return replicates, np.nan"
   ]
  },
  {
   "cell_type": "markdown",
   "metadata": {},
   "source": [
    "### Calculate relative sgRNA frequency and growth rates\n",
    "\n",
    "We first normalize raw counts by the nontargeting construct at each timepoint. Then we normalize relative frequencies at every timepoint by the relative frequency at $T_0$. For all constructs with counts present through the first three timepoints, we fit a line to $log_2$(relative frequency) vs. time data. The slope of this line is the construct's relative growth rate effect.\n",
    "\n",
    "$relative frequency_{a,T}$ = $\\frac{counts_{a,T} / counts_{Nont,T}}{counts_{a,T_0} / counts_{Nont,T_0}}$"
   ]
  },
  {
   "cell_type": "code",
   "execution_count": null,
   "metadata": {},
   "outputs": [],
   "source": [
    "nont_norm_dict, T0_norm_dict, df_normed = {}, {}, {}\n",
    "for TP in TPs:\n",
    "    nont_norm_dict[TP], T0_norm_dict[TP], df_normed[TP] = {}, {}, {}\n",
    "    for BC in BC_list:\n",
    "        nont_norm_dict[TP][BC] = pd.DataFrame(np.full([len(sgRNA_list), len(sgRNA_list)], np.nan), sgRNA_list,\n",
    "                                         sgRNA_list)\n",
    "        T0_norm_dict[TP][BC] = pd.DataFrame(np.full([len(sgRNA_list), len(sgRNA_list)], np.nan), sgRNA_list,\n",
    "                                            sgRNA_list)\n",
    "        df_normed[TP][BC] = pd.DataFrame(np.full([len(sgRNA_list), len(sgRNA_list)], np.nan), sgRNA_list, sgRNA_list)\n",
    "        for sgRNA1 in sgRNA_list:\n",
    "            for sgRNA2 in sgRNA_list:\n",
    "                # Normalize to Nontargeting control\n",
    "                nont_norm_dict[TP][BC].loc[sgRNA1, sgRNA2] = pairwise_dict[TP][BC].loc[sgRNA1, sgRNA2] \\\n",
    "                                                           / pairwise_dict[TP][BC].loc['negC_rand_42', 'negC_rand_42']\n",
    "                # Normalize to T0\n",
    "                if nont_norm_dict[0][BC].loc[sgRNA1, sgRNA2] != 0:\n",
    "                    T0_norm_dict[TP][BC].loc[sgRNA1, sgRNA2] = nont_norm_dict[TP][BC].loc[sgRNA1, sgRNA2] \\\n",
    "                                                             / nont_norm_dict[0][BC].loc[sgRNA1, sgRNA2]\n",
    "                # log2 transformation\n",
    "                if T0_norm_dict[TP][BC].loc[sgRNA1, sgRNA2] != 0:\n",
    "                    df_normed[TP][BC].loc[sgRNA1, sgRNA2] = np.log2(T0_norm_dict[TP][BC].loc[sgRNA1, sgRNA2])"
   ]
  },
  {
   "cell_type": "code",
   "execution_count": null,
   "metadata": {},
   "outputs": [],
   "source": [
    "growth_dict_BC, b_dict_BC = {}, {}\n",
    "for BC in BC_list:\n",
    "    growth_dict_BC[BC] = pd.DataFrame(np.full([len(sgRNA_list), len(sgRNA_list)], np.nan), sgRNA_list, sgRNA_list)\n",
    "    b_dict_BC[BC] = pd.DataFrame(np.full([len(sgRNA_list), len(sgRNA_list)], np.nan), sgRNA_list, sgRNA_list)\n",
    "    for sgRNA1 in sgRNA_list:\n",
    "        for sgRNA2 in sgRNA_list:\n",
    "            growth_dict_BC[BC].loc[sgRNA1, sgRNA2], b_dict_BC[BC].loc[sgRNA1, sgRNA2] = \\\n",
    "                                growth_rate(sgRNA1, sgRNA2, df_normed, pairwise_dict, TPs, gr_TPs, BC)"
   ]
  },
  {
   "cell_type": "code",
   "execution_count": null,
   "metadata": {},
   "outputs": [],
   "source": [
    "sorted_colors = ['xkcd:dark gray', 'xkcd:cherry red', 'xkcd:sky blue', 'xkcd:forest green', 'xkcd:turquoise',\n",
    "                 'xkcd:purple', 'xkcd:grass green', 'xkcd:sea blue', 'xkcd:dark yellow', 'xkcd:lilac']\n",
    "fig, ax = plt.subplots(figsize=(5, 5))\n",
    "thyA_sgRNA = [x for x in sgRNA_list if x == 'negC_rand_42' or 'thyA' in x]  # Extract thyA-targeting sgRNAs\n",
    "for i, sgRNA in enumerate(thyA_sgRNA):\n",
    "    rel_freq = [df_normed[TP][BC_list[0]].loc['negC_rand_42', sgRNA] for TP in TPs]  # Extract frequencies over time\n",
    "    ax.errorbar(gr_TPs, rel_freq, color=sorted_colors[i], fmt='o')\n",
    "    ax.plot(gr_TPs, [x*growth_dict_BC[BC_list[0]].loc['negC_rand_42', sgRNA] \n",
    "                   + b_dict_BC[BC_list[0]].loc['negC_rand_42', sgRNA] for x in gr_TPs], color=sorted_colors[i])\n",
    "ax.text(0, -11.5, '$thyA$', fontsize=16)\n",
    "ax.set_xlabel('Generations', fontsize=16)\n",
    "ax.set_ylabel('log$_{2}$(Relative Frequency)', fontsize=16)\n",
    "ax.set_xticks([0, 5, 10])\n",
    "ax.set_yticks([-10, -5, 0])\n",
    "plt.tight_layout()\n",
    "plt.savefig(f'{figure_path}/Fig1B.pdf')\n",
    "plt.show()"
   ]
  },
  {
   "cell_type": "markdown",
   "metadata": {},
   "source": [
    "## Remove hand-annotated off-target sgRNAs\n",
    "\n",
    "Two sgRNAs targeting gdhA, a nonessential gene in M9, showed significant growth defects across most backgrounds. Removing these sgRNAs prior to future analysis. The first sgRNA shows extremely inconsistent growth rate effects, due to a combination of off-target effects and low sgRNA numbers during sequencing. The second sgRNA shows a consistent growth defect, and by investigating \"nearby\" sgRNAs (those with nearly matches sequence), this sgRNA is a clear outlier attributable to off-target effects."
   ]
  },
  {
   "cell_type": "code",
   "execution_count": null,
   "metadata": {},
   "outputs": [],
   "source": [
    "# Note: This code can't be run multiple times -- it removes the data it calls\n",
    "for off_target in ['gdhA_1_42_B_MM14', 'gdhA_3_216_B_MM8']:\n",
    "    fig, ax = plt.subplots(figsize=(5, 5))\n",
    "    for BC in BC_list:\n",
    "        ax.scatter(gr_TPs, [df_normed[TP][BC].loc[off_target, 'negC_rand_42'] for TP in TPs])\n",
    "        ax.plot(gr_TPs, [x*growth_dict_BC[BC].loc[off_target, 'negC_rand_42']\n",
    "                       + b_dict_BC[BC].loc[off_target, 'negC_rand_42'] for x in gr_TPs])  # Plot best fit line\n",
    "        ax.scatter(gr_TPs, [df_normed[TP][BC].loc['negC_rand_42', off_target] for TP in TPs])\n",
    "        ax.plot(gr_TPs, [x*growth_dict_BC[BC].loc['negC_rand_42', off_target]\n",
    "                       + b_dict_BC[BC].loc['negC_rand_42', off_target] for x in gr_TPs])  # Plot best fit line\n",
    "    ax.set_xticks([0, 5, 10])\n",
    "    ax.set_xlabel('Generations', fontsize=14)\n",
    "    ax.set_ylabel('log$_{2}$(Relative Frequency)', fontsize=14)\n",
    "    ax.set_title(f'{off_target}-negC_rand_42', fontsize=14)\n",
    "    plt.show()\n",
    "    for BC in BC_list:\n",
    "        growth_dict_BC[BC].drop(labels=off_target, axis=0, inplace=True)  # Remove sgRNA\n",
    "        growth_dict_BC[BC].drop(labels=off_target, axis=1, inplace=True)  # Remove sgRNA\n",
    "    sp = off_target.split('_')\n",
    "    sgRNA_list.remove(off_target)  # Remove sgRNA"
   ]
  },
  {
   "cell_type": "markdown",
   "metadata": {},
   "source": [
    "### Visualize example escaper\n",
    "\n",
    "We chose one sgRNA pair that was identified during escaper correction to visualize. Each replicate is plotted individually. The replicate flagged as an escaper is plotted in red, and the replicates that passed escaper filtering are plotted in gray."
   ]
  },
  {
   "cell_type": "code",
   "execution_count": null,
   "metadata": {
    "scrolled": false
   },
   "outputs": [],
   "source": [
    "fig, ax = plt.subplots(figsize=(4, 4))\n",
    "colors = ['xkcd:gray', 'xkcd:gray', 'xkcd:gray', 'xkcd:gray', 'xkcd:gray', 'r']\n",
    "sgRNA1 = 'purL_1_25_B_MM14'\n",
    "sgRNA2 = 'thyA_3_233_B_MM4'\n",
    "for i, BC in enumerate(BC_list):\n",
    "    ax.scatter(gr_TPs, [df_normed[TP][BC].loc[sgRNA1, sgRNA2] for TP in TPs], s=80, color=colors[2*i])\n",
    "    ax.plot(gr_TPs, [x*growth_dict_BC[BC].loc[sgRNA1, sgRNA2] + b_dict_BC[BC].loc[sgRNA1, sgRNA2] for x in gr_TPs],\n",
    "            color=colors[2*i])  # Plot best fit line\n",
    "    ax.scatter(gr_TPs, [df_normed[TP][BC].loc[sgRNA2, sgRNA1] for TP in TPs], s=80, color=colors[2*i+1])\n",
    "    ax.plot(gr_TPs, [x*growth_dict_BC[BC].loc[sgRNA2, sgRNA1] + b_dict_BC[BC].loc[sgRNA2, sgRNA1] for x in gr_TPs],\n",
    "            color=colors[2*i+1])  # Plot best fit line\n",
    "ax.set_title(f'{sgRNA1} + {sgRNA2}', fontsize=18)\n",
    "ax.set_xlabel('Generations', fontsize=18)\n",
    "ax.set_ylabel('log$_{2}$(Relative Frequency)', fontsize=18)\n",
    "plt.tight_layout()\n",
    "plt.savefig(f'{figure_path}/FigS3A.pdf')\n",
    "plt.show()"
   ]
  },
  {
   "cell_type": "markdown",
   "metadata": {},
   "source": [
    "### Compare growth rates calculated from 14 hours of data vs. 10 hours\n",
    "\n",
    "To optimize future experiments, we checked to see how much growth rate information was contained in the last two timepoints of the 14-hour experiment. To do this, we calculated growth rates using only the first 10 hours of data, using the same approach described above. Broadly speaking, there is not a significant change when downsampling the data in this way. Growth rates under ~0.5 are unchanged as these sgRNA constructs were depleted from the library at or after the 10-hour timepoint."
   ]
  },
  {
   "cell_type": "code",
   "execution_count": null,
   "metadata": {},
   "outputs": [],
   "source": [
    "growth_dict_BC_10, b_dict_BC_10 = {}, {}\n",
    "for BC in BC_list:\n",
    "    growth_dict_BC_10[BC] = pd.DataFrame(np.full([len(sgRNA_list), len(sgRNA_list)], np.nan), sgRNA_list, sgRNA_list)\n",
    "    for sgRNA1 in sgRNA_list:\n",
    "        for sgRNA2 in sgRNA_list:\n",
    "            growth_dict_BC_10[BC].loc[sgRNA1, sgRNA2], _ = \\\n",
    "                                growth_rate(sgRNA1, sgRNA2, df_normed, pairwise_dict, TPs[:-2], gr_TPs[:-2], BC)"
   ]
  },
  {
   "cell_type": "code",
   "execution_count": null,
   "metadata": {},
   "outputs": [],
   "source": [
    "full_gr, short_gr = [], []\n",
    "for BC in BC_list:\n",
    "    for sgRNA1 in sgRNA_list:\n",
    "        for sgRNA2 in sgRNA_list:\n",
    "            if ~np.isnan(growth_dict_BC[BC].loc[sgRNA1, sgRNA2]) and \\\n",
    "               ~np.isnan(growth_dict_BC_10[BC].loc[sgRNA1, sgRNA2]):  # Ensure both values are present\n",
    "                full_gr.append(growth_dict_BC[BC].loc[sgRNA1, sgRNA2])\n",
    "                short_gr.append(growth_dict_BC_10[BC].loc[sgRNA1, sgRNA2])\n",
    "full_gr = (full_gr-min(full_gr)) / abs(min(full_gr))  # Rescale\n",
    "short_gr = (short_gr-min(short_gr)) / abs(min(short_gr))  # Rescale\n",
    "plot_correlation(short_gr, full_gr, 'GR - 14 Hour Fit', 'GR - 10 Hour Fit', 0, 1.33, 'FigS13', figure_path)"
   ]
  },
  {
   "cell_type": "markdown",
   "metadata": {},
   "source": [
    "### Correlate growth rate data between barcodes and sgRNA orders\n",
    "\n",
    "Internal replicates are barcoded, and sgRNA constructs should have comparable effects regardless of the barcode used. We see that this holds; the increase in dispersion at lower growth rates is expected as these data are fit from fewer sgRNA counts, and thus more susceptible to noise.\n",
    "\n",
    "We then ensured that changing sgRNA order (whether a given sgRNA is in position 1 or position 2 in the construct) did not have a meaningful effect on growth rate. We see this holds as well. Note that the decrease in variation between sgRNA orders (when compared to deviation between barcodes) is expected, as the sgRNA order measurements are averaged across three barcoded replicates."
   ]
  },
  {
   "cell_type": "code",
   "execution_count": null,
   "metadata": {},
   "outputs": [],
   "source": [
    "BC1, BC2, BC3 = [], [], []\n",
    "for sgRNA1 in sgRNA_list:\n",
    "    for sgRNA2 in sgRNA_list:\n",
    "        BC1.append(growth_dict_BC[BC_list[0]].loc[sgRNA1, sgRNA2])\n",
    "        BC2.append(growth_dict_BC[BC_list[1]].loc[sgRNA1, sgRNA2])\n",
    "        BC3.append(growth_dict_BC[BC_list[2]].loc[sgRNA1, sgRNA2])\n",
    "low_bound = np.nanmin(BC1 + BC2 + BC3) * 1.05\n",
    "high_bound = np.nanmax(BC1 + BC2 + BC3) * 1.05\n",
    "plot_correlation(BC1, BC2, 'BC1', 'BC2', low_bound, high_bound, 'FigS2A', figure_path)\n",
    "plot_correlation(BC1, BC3, 'BC1', 'BC3', low_bound, high_bound, 'FigS2B', figure_path)\n",
    "plot_correlation(BC2, BC3, 'BC2', 'BC3', low_bound, high_bound, 'FigS2C', figure_path)"
   ]
  },
  {
   "cell_type": "code",
   "execution_count": null,
   "metadata": {},
   "outputs": [],
   "source": [
    "sg1_sg2, sg2_sg1 = [], []\n",
    "for i, sgRNA1 in enumerate(sgRNA_list):\n",
    "    for sgRNA2 in sgRNA_list[i+1:]:  # Only take non-redundant sgRNAs\n",
    "        temp_order1 = np.array([growth_dict_BC[BC_list[0]].loc[sgRNA1, sgRNA2],\n",
    "                                growth_dict_BC[BC_list[1]].loc[sgRNA1, sgRNA2],\n",
    "                                growth_dict_BC[BC_list[2]].loc[sgRNA1, sgRNA2]])  # All barcodes, order 1\n",
    "        temp_order2 = np.array([growth_dict_BC[BC_list[0]].loc[sgRNA2, sgRNA1],\n",
    "                                growth_dict_BC[BC_list[1]].loc[sgRNA2, sgRNA1],\n",
    "                                growth_dict_BC[BC_list[2]].loc[sgRNA2, sgRNA1]])  # All barcodes, order 2\n",
    "        if sum(~np.isnan(temp_order1)) >= 2 and sum(~np.isnan(temp_order2)) >= 2:  # Check for sufficient data\n",
    "            sg1_sg2.append(np.nanmean(temp_order1))\n",
    "            sg2_sg1.append(np.nanmean(temp_order2))\n",
    "low_bound = np.nanmin(sg1_sg2 + sg2_sg1) * 1.02\n",
    "high_bound = np.nanmax(sg1_sg2 + sg2_sg1) * 1.2\n",
    "plot_correlation(sg1_sg2, sg2_sg1, 'sgRNA1-sgRNA2', 'sgRNA2-sgRNA1', low_bound, high_bound, 'FigS2D', figure_path)"
   ]
  },
  {
   "cell_type": "markdown",
   "metadata": {},
   "source": [
    "### Pool data by barcode and sgRNA order, remove escapers, and rescale growth rate data\n",
    "\n",
    "We first pool growth rates by barcode and sgRNA order, then remove escapers using a one-sided Dixon Q-test at 95% confidence. After removing escapers, we average all constructs with at least four barcoded measurements remaining. Finally, we normalize each construct's mean growth rate by the minimum growth rate observed in the library, which rescales the nontargeting construct's growth rate to 1 and makes all growth rates non-negative."
   ]
  },
  {
   "cell_type": "code",
   "execution_count": null,
   "metadata": {},
   "outputs": [],
   "source": [
    "dict_growth_pool = {}\n",
    "for i, sgRNA1 in enumerate(sgRNA_list):\n",
    "    dict_growth_pool[sgRNA1] = {}\n",
    "    for sgRNA2 in sgRNA_list[i:]:\n",
    "        dict_growth_pool[sgRNA1][sgRNA2] = np.array([])\n",
    "for i, sgRNA1 in enumerate(sgRNA_list):\n",
    "    for sgRNA2 in sgRNA_list[i:]:\n",
    "        for BC in BC_list:\n",
    "            dict_growth_pool[sgRNA1][sgRNA2] = np.append(dict_growth_pool[sgRNA1][sgRNA2],\n",
    "                                                         growth_dict_BC[BC].loc[sgRNA1, sgRNA2])  # Pool by barcode\n",
    "            if sgRNA1 != sgRNA2:  # If the construct has two distinct sgRNAs, pool by order\n",
    "                dict_growth_pool[sgRNA1][sgRNA2] = np.append(dict_growth_pool[sgRNA1][sgRNA2],\n",
    "                                                         growth_dict_BC[BC].loc[sgRNA2, sgRNA1])\n",
    "        dict_growth_pool[sgRNA1][sgRNA2] = \\\n",
    "            dict_growth_pool[sgRNA1][sgRNA2][~np.isnan(dict_growth_pool[sgRNA1][sgRNA2])]  # Remove nans"
   ]
  },
  {
   "cell_type": "code",
   "execution_count": null,
   "metadata": {},
   "outputs": [],
   "source": [
    "df_growth_pool = pd.DataFrame(np.full([len(sgRNA_list), len(sgRNA_list)], np.nan), sgRNA_list, sgRNA_list)\n",
    "df_growth_pool_sem = pd.DataFrame(np.full([len(sgRNA_list), len(sgRNA_list)], np.nan), sgRNA_list, sgRNA_list)\n",
    "df_growth_pool_std = pd.DataFrame(np.full([len(sgRNA_list), len(sgRNA_list)], np.nan), sgRNA_list, sgRNA_list)\n",
    "df_growth_pool_filt = pd.DataFrame(np.full([len(sgRNA_list), len(sgRNA_list)], np.nan), sgRNA_list, sgRNA_list)\n",
    "df_growth_pool_filt_sem = pd.DataFrame(np.full([len(sgRNA_list), len(sgRNA_list)], np.nan), sgRNA_list, sgRNA_list)\n",
    "df_growth_pool_filt_std = pd.DataFrame(np.full([len(sgRNA_list), len(sgRNA_list)], np.nan), sgRNA_list, sgRNA_list)\n",
    "escaper_dict = {}\n",
    "for i, sgRNA1 in enumerate(sgRNA_list):\n",
    "    for sgRNA2 in sgRNA_list[i:]:\n",
    "        gr_values = dict_growth_pool[sgRNA1][sgRNA2]\n",
    "        if sgRNA1 != sgRNA2:  # Most constructs are of two distinct sgRNAs -- we require 4 replicates to fit\n",
    "            reps_required = 4\n",
    "        else:  # For these constructs, we only have 3 replicates -- require 2 to fit\n",
    "            reps_required = 2\n",
    "        if len(gr_values) >= reps_required:\n",
    "            filt_gr_values, escaper_val = qtest_dixon(gr_values)  # Remove escapers\n",
    "            if ~np.isnan(escaper_val):\n",
    "                escaper_dict[f'{sgRNA1}-{sgRNA2}'] = escaper_val  # Record escapers\n",
    "            df_growth_pool.loc[sgRNA2, sgRNA1] = np.mean(gr_values)\n",
    "            df_growth_pool_sem.loc[sgRNA2, sgRNA1] = stats.sem(gr_values)\n",
    "            df_growth_pool_std.loc[sgRNA2, sgRNA1] = np.std(gr_values)\n",
    "            df_growth_pool_filt.loc[sgRNA2, sgRNA1] = np.mean(filt_gr_values)\n",
    "            df_growth_pool_filt_sem.loc[sgRNA2, sgRNA1] = stats.sem(filt_gr_values)\n",
    "            df_growth_pool_filt_std.loc[sgRNA2, sgRNA1] = np.std(filt_gr_values)\n",
    "total_measurements = sum([sum(~np.isnan(growth_dict_BC[BC].values.flatten())) for BC in BC_list])\n",
    "print(f'{len(escaper_dict)} escapers')\n",
    "print(f'{total_measurements} total measurements')\n",
    "print(f'{np.round(len(escaper_dict)/total_measurements*100, 3)}% dropped')"
   ]
  },
  {
   "cell_type": "code",
   "execution_count": null,
   "metadata": {},
   "outputs": [],
   "source": [
    "gr_min = np.nanmin(df_growth_pool_filt.values)  # Minimum observed growth rate\n",
    "df_growth_pool_filt_rescale = pd.DataFrame((df_growth_pool_filt.values - gr_min)/abs(gr_min), sgRNA_list, sgRNA_list)\n",
    "df_growth_pool_filt_sem_rescale = pd.DataFrame(df_growth_pool_filt_sem.values/abs(gr_min), sgRNA_list, sgRNA_list)\n",
    "df_growth_pool_filt_std_rescale = pd.DataFrame(df_growth_pool_filt_std.values/abs(gr_min), sgRNA_list, sgRNA_list)\n",
    "simple_epistasis = pd.DataFrame(np.full([len(sgRNA_list), len(sgRNA_list)], np.nan), sgRNA_list, sgRNA_list)\n",
    "for i, sgRNA1 in enumerate(sgRNA_list):\n",
    "    for sgRNA2 in sgRNA_list[0:i]:  # Only use values above diagonal\n",
    "        simple_epistasis.loc[sgRNA2, sgRNA1] = df_growth_pool_filt_rescale.loc[sgRNA1, sgRNA2] \\\n",
    "      - df_growth_pool_filt_rescale.loc[sgRNA1, 'negC_rand_42'] \\\n",
    "      * df_growth_pool_filt_rescale.loc[sgRNA2, 'negC_rand_42']"
   ]
  },
  {
   "cell_type": "markdown",
   "metadata": {},
   "source": [
    "### Plot escaper effects on growth rate mean and growth rate sem"
   ]
  },
  {
   "cell_type": "code",
   "execution_count": null,
   "metadata": {},
   "outputs": [],
   "source": [
    "fig, ax = plt.subplots(figsize=(4, 4))\n",
    "ax.scatter(df_growth_pool, df_growth_pool_filt, marker='o', color='xkcd:dark gray')\n",
    "ax.plot([-1.5, 0.4], [-1.5, 0.4], ls='--', color='xkcd:dark gray', zorder=0)\n",
    "ax.text(-0.5, -1.4, 'GR Mean', fontsize=16)\n",
    "ax.set_xlim(-1.45, 0.3)\n",
    "ax.set_ylim(-1.45, 0.3)\n",
    "ax.set_xticks([-1, -0.5, 0])\n",
    "ax.set_yticks([-1, -0.5, 0])\n",
    "ax.set_xlabel('No Correction', fontsize=16)\n",
    "ax.set_ylabel('Escaper Corrected', fontsize=16)\n",
    "ax.spines[['top', 'right']].set_visible(False)\n",
    "plt.tight_layout()\n",
    "plt.savefig(f'{figure_path}/FigS3B.pdf')\n",
    "plt.show()\n",
    "\n",
    "fig, ax = plt.subplots(figsize=(4, 4))\n",
    "ax.scatter(df_growth_pool_sem, df_growth_pool_filt_sem, marker='o', color='xkcd:dark gray')\n",
    "ax.plot([-0.05, 0.4], [-0.05, 0.4], ls='--', color='xkcd:dark gray', zorder=0)\n",
    "ax.set_xlim(-0.02, 0.4)\n",
    "ax.set_ylim(-0.02, 0.4)\n",
    "ax.set_xticks([0, 0.2, 0.4])\n",
    "ax.set_yticks([0, 0.2, 0.4])\n",
    "ax.set_xlabel('No Correction', fontsize=16)\n",
    "ax.set_ylabel('Escaper Corrected', fontsize=16)\n",
    "ax.text(0.23, 0, 'GR SEM', fontsize=16)\n",
    "ax.spines[['top', 'right']].set_visible(False)\n",
    "plt.tight_layout()\n",
    "plt.savefig(f'{figure_path}/FigS3C.pdf')\n",
    "plt.show()"
   ]
  },
  {
   "cell_type": "markdown",
   "metadata": {},
   "source": [
    "### Plot growth rates following pairwise CRISPRi treatment"
   ]
  },
  {
   "cell_type": "code",
   "execution_count": null,
   "metadata": {},
   "outputs": [],
   "source": [
    "fig, ax = plt.subplots(figsize=(30, 30))\n",
    "im = ax.imshow(df_growth_pool_filt_rescale, vmin=0, vmax=2, cmap='RdBu_r')\n",
    "fig.colorbar(im, shrink=0.3)\n",
    "ax.tick_params(axis='both', labelsize=20)\n",
    "ax.set_facecolor('xkcd:light gray')\n",
    "ax.grid(which='minor', color='xkcd:dark gray', linestyle='-', linewidth=0.25)\n",
    "grid_lines = [-0.5, 0.5]  # Set up grids to divide sgRNA groups by the gene they target\n",
    "labels = ['Nont', sgRNA_list[1].split('_')[0]]  # Target gene names\n",
    "ax.hlines(0.5, -0.5, len(sgRNA_list)-0.5, color='xkcd:dark gray')  # Nont sgRNA\n",
    "ax.vlines(0.5, -0.5, len(sgRNA_list)-0.5, color='xkcd:dark gray')  # Nont sgRNA\n",
    "for i, sgRNA in enumerate(sgRNA_list[1:]):\n",
    "    if sgRNA.split('_')[0][0:4] != labels[-1]:  # Switching to a new sgRNA group\n",
    "        grid_lines.append(i+0.5)\n",
    "        labels.append(sgRNA.split('_')[0])\n",
    "        ax.hlines(i+0.5, -0.5, len(sgRNA_list)-0.5, color='xkcd:dark gray')\n",
    "        ax.vlines(i+0.5, -0.5, len(sgRNA_list)-0.5, color='xkcd:dark gray')\n",
    "    ax.hlines(i+0.5, i+0.5, i+1.5, color='xkcd:dark gray')  # Lines just across diagonal\n",
    "    ax.vlines(i+1.5, i+0.5, i+1.5, color='xkcd:dark gray')  # Lines just across diagonal\n",
    "grid_lines.append(i+1.5)\n",
    "centers = []  # Center of each sgRNA group\n",
    "for i, grid in enumerate(grid_lines[:-1]):\n",
    "    centers.append((grid+grid_lines[i+1]) / 2)\n",
    "ax.set_xticks(centers)\n",
    "ax.set_yticks(centers)\n",
    "ax.set_xticklabels(labels)\n",
    "ax.set_yticklabels(labels)\n",
    "ax.spines[['top', 'right']].set_visible(True)\n",
    "plt.tight_layout()\n",
    "plt.savefig(f'{figure_path}/Fig3GR.pdf')\n",
    "plt.show()"
   ]
  },
  {
   "cell_type": "markdown",
   "metadata": {},
   "source": [
    "### Plot growth rate epistasis for the pairwise CRISPRi library\n",
    "\n",
    "We calculated growth rate epistasis using a multiplicative model using the following formula.\n",
    "\n",
    "$epi_{a,b}$ = $gr_{a,b}$ - $gr_a$ * $gr_b$"
   ]
  },
  {
   "cell_type": "code",
   "execution_count": null,
   "metadata": {},
   "outputs": [],
   "source": [
    "fig, ax = plt.subplots(figsize=(30, 30))\n",
    "im = ax.imshow(simple_epistasis, vmin=-1, vmax=1, cmap='PuOr_r')\n",
    "fig.colorbar(im, shrink=0.3)\n",
    "ax.set_facecolor('xkcd:light gray')\n",
    "ax.spines[['bottom', 'left']].set_visible(False)\n",
    "ax.set_yticks([])  # Ticks, grid, and labels are brought in with lower left portion of figure\n",
    "ax.set_xticks([])\n",
    "plt.tight_layout()\n",
    "plt.savefig(f'{figure_path}/Fig3Epi.pdf')\n",
    "plt.show()"
   ]
  },
  {
   "cell_type": "markdown",
   "metadata": {},
   "source": [
    "### Interreplicate RMSD\n",
    "\n",
    "We calculate RMSD between experimental replicates by taking the error between each individual measurement and the mean growth rate across all replicates of that construct. This RMSD is assumed to be the theoretical minimum error for predicted growth rates."
   ]
  },
  {
   "cell_type": "code",
   "execution_count": null,
   "metadata": {},
   "outputs": [],
   "source": [
    "sq_errs = []\n",
    "for BC in BC_list:\n",
    "    for i, sgRNA1 in enumerate(sgRNA_list):\n",
    "        for sgRNA2 in sgRNA_list[i+1:]:  # Non-redundant constructs\n",
    "            if sgRNA1.split('_')[0] != sgRNA2.split('_')[0]:  # We don't investigate same gene sgRNAs\n",
    "                sq_errs.extend([((growth_dict_BC[BC].loc[sgRNA1, sgRNA2]-gr_min)/abs(gr_min)\n",
    "                                - df_growth_pool_filt_rescale.loc[sgRNA2, sgRNA1])**2, \n",
    "                               ((growth_dict_BC[BC].loc[sgRNA2, sgRNA1]-gr_min)/abs(gr_min)\n",
    "                                - df_growth_pool_filt_rescale.loc[sgRNA2, sgRNA1])**2])\n",
    "data_RMSD = np.sqrt(np.nanmean(sq_errs))\n",
    "print(f'Data RMSD: {data_RMSD}')"
   ]
  },
  {
   "cell_type": "markdown",
   "metadata": {},
   "source": [
    "### Comparison to previous CRISPRi growth rate data\n",
    "\n",
    "We compared growth rates for single CRISPRi perturbations from this library (targeting sgRNA + nontargeting sgRNA) and data published in Mathis et al. 2021."
   ]
  },
  {
   "cell_type": "code",
   "execution_count": null,
   "metadata": {},
   "outputs": [],
   "source": [
    "prior_data_dict = {}\n",
    "for shared_sgRNA in set(sgRNA_list).intersection(prior_gr_data.index):  # Use only shared sgRNAs\n",
    "    prior_data_dict[shared_sgRNA] = [prior_gr_data['mean'].loc[shared_sgRNA], prior_gr_data['sem'].loc[shared_sgRNA]]\n",
    "prior_gr_min = np.nanmin(prior_gr_data['mean'].values)  # Minimum from the prior experiment\n",
    "pairwise_mean, pairwise_sem, prior_mean, prior_sem = np.array([]), [], np.array([]), []\n",
    "for shared_sgRNA in set(sgRNA_list).intersection(prior_gr_data.index):  # Use only shared sgRNAs\n",
    "    if all(~np.isnan([df_growth_pool_filt_rescale.loc[shared_sgRNA, 'negC_rand_42'], \n",
    "                      prior_data_dict[shared_sgRNA][0]])):  # If both values are present\n",
    "        pairwise_mean = np.append(pairwise_mean, df_growth_pool_filt_rescale.loc[shared_sgRNA, 'negC_rand_42'])\n",
    "        pairwise_sem.append(df_growth_pool_filt_sem_rescale.loc[shared_sgRNA, 'negC_rand_42' ])\n",
    "        # Rescale\n",
    "        prior_mean = np.append(prior_mean, (prior_data_dict[shared_sgRNA][0]-prior_gr_min)/abs(prior_gr_min))\n",
    "        prior_sem.append(prior_data_dict[shared_sgRNA][1]/abs(prior_gr_min))"
   ]
  },
  {
   "cell_type": "code",
   "execution_count": null,
   "metadata": {},
   "outputs": [],
   "source": [
    "fig, ax = plt.subplots(figsize=(6, 6))\n",
    "ax.errorbar(pairwise_mean, prior_mean, xerr=pairwise_sem, yerr=prior_sem, ls='None', ms=10, marker='o',\n",
    "             color='xkcd:dark gray', elinewidth=2)\n",
    "ax.plot([0, 1.15], [0, 1.15], '--', color='xkcd:gray', zorder=0)\n",
    "ax.text(0.7, 0.1, f'R$^2$ = {np.round(r2_score(pairwise_mean, prior_mean), 2)}', fontsize=18)\n",
    "ax.set_xlabel('Relative GR Current Work', fontsize=20)\n",
    "ax.set_ylabel('Relative GR Mathis et al., 2021', fontsize=20)\n",
    "ax.set_title('Growth Rate Replicates', fontsize=24)\n",
    "ax.set_ylim(0, 1.15)\n",
    "ax.set_xlim(0, 1.15)\n",
    "ax.set_xticks([0, 0.5, 1])\n",
    "ax.set_yticks([0, 0.5, 1])\n",
    "plt.tight_layout()\n",
    "plt.savefig(f'{figure_path}/FigS4.pdf')\n",
    "plt.show()"
   ]
  },
  {
   "cell_type": "markdown",
   "metadata": {},
   "source": [
    "### Generate tables and export data"
   ]
  },
  {
   "cell_type": "code",
   "execution_count": null,
   "metadata": {},
   "outputs": [],
   "source": [
    "#  Table S2. Single sgRNA repression intensities and growth rates.\n",
    "table_s2 = pd.DataFrame(np.full((len(sgRNA_list)-1, 4), np.nan), index=sgRNA_list[1:],\n",
    "                        columns=['Repression', 'Repression SEM', 'Growth Rate', 'Growth Rate SEM'])\n",
    "for sgRNA in table_s2.index:\n",
    "    table_s2.loc[sgRNA] = [qPCR_vals[sgRNA.split('_')[0]][sgRNA], qPCR_sem[sgRNA.split('_')[0]][sgRNA],\n",
    "                           df_growth_pool_filt_rescale.loc[sgRNA, 'negC_rand_42'],\n",
    "                           df_growth_pool_filt_sem_rescale.loc[sgRNA, 'negC_rand_42']]\n",
    "#  Table S3. Pairwise sgRNA growth rates.\n",
    "table_s3 = pd.DataFrame(np.full((int(((len(sgRNA_list)-1)*(len(sgRNA_list)-1))/2), 5), np.nan),\n",
    "                        columns=['sgRNA1', 'sgRNA2', 'Growth Rate', 'Growth Rate SEM', 'Epistasis'])\n",
    "count = 0\n",
    "for i, sgRNA1 in enumerate(sgRNA_list[1:]):\n",
    "    for sgRNA2 in sgRNA_list[i+1:]:\n",
    "        if sgRNA1 == sgRNA2:\n",
    "            table_s3.loc[count] = [sgRNA1, sgRNA2, df_growth_pool_filt_rescale.loc[sgRNA2, sgRNA1],\n",
    "                                   df_growth_pool_filt_sem_rescale.loc[sgRNA2, sgRNA1], np.nan]\n",
    "        else:\n",
    "            table_s3.loc[count] = [sgRNA1, sgRNA2, df_growth_pool_filt_rescale.loc[sgRNA2, sgRNA1],\n",
    "                            df_growth_pool_filt_sem_rescale.loc[sgRNA2, sgRNA1], simple_epistasis.loc[sgRNA1, sgRNA2]]\n",
    "        count += 1"
   ]
  },
  {
   "cell_type": "code",
   "execution_count": null,
   "metadata": {},
   "outputs": [],
   "source": [
    "with open(f'{file_path}/{date}_df_growth_pool_filt.pickle', 'wb') as handle:\n",
    "    pickle.dump(df_growth_pool_filt, handle, protocol=pickle.HIGHEST_PROTOCOL)\n",
    "with open(f'{file_path}/{date}_df_growth_pool_filt_sem.pickle', 'wb') as handle:\n",
    "    pickle.dump(df_growth_pool_filt_sem, handle, protocol=pickle.HIGHEST_PROTOCOL)\n",
    "with open(f'{file_path}/{date}_df_growth_pool_filt_std.pickle', 'wb') as handle:\n",
    "    pickle.dump(df_growth_pool_filt_std, handle, protocol=pickle.HIGHEST_PROTOCOL)\n",
    "with open(f'{file_path}/{date}_df_growth_pool_filt_rescale.pickle', 'wb') as handle:\n",
    "    pickle.dump(df_growth_pool_filt_rescale, handle, protocol=pickle.HIGHEST_PROTOCOL)\n",
    "with open(f'{file_path}/{date}_df_growth_pool_filt_sem_rescale.pickle', 'wb') as handle:\n",
    "    pickle.dump(df_growth_pool_filt_sem_rescale, handle, protocol=pickle.HIGHEST_PROTOCOL)\n",
    "with open(f'{file_path}/{date}_df_growth_pool_filt_std_rescale.pickle', 'wb') as handle:\n",
    "    pickle.dump(df_growth_pool_filt_std_rescale, handle, protocol=pickle.HIGHEST_PROTOCOL)\n",
    "with open(f'{file_path}/{date}_raw_data_real_rmsd.pickle', 'wb') as handle:\n",
    "    pickle.dump(data_RMSD, handle, protocol=pickle.HIGHEST_PROTOCOL)\n",
    "with open(f'{file_path}/{date}_pairwise_gr_min.pickle', 'wb') as handle:\n",
    "    pickle.dump(gr_min, handle, protocol=pickle.HIGHEST_PROTOCOL)\n",
    "with pd.ExcelWriter(f'Supplementary_Tables.xlsx', mode='a', if_sheet_exists='replace') as writer:  \n",
    "    table_s2.to_excel(writer, sheet_name='Table S2')\n",
    "    table_s3.to_excel(writer, sheet_name='Table S3')"
   ]
  },
  {
   "cell_type": "code",
   "execution_count": null,
   "metadata": {},
   "outputs": [],
   "source": []
  }
 ],
 "metadata": {
  "kernelspec": {
   "display_name": "Python 3 (ipykernel)",
   "language": "python",
   "name": "python3"
  },
  "language_info": {
   "codemirror_mode": {
    "name": "ipython",
    "version": 3
   },
   "file_extension": ".py",
   "mimetype": "text/x-python",
   "name": "python",
   "nbconvert_exporter": "python",
   "pygments_lexer": "ipython3",
   "version": "3.9.12"
  }
 },
 "nbformat": 4,
 "nbformat_minor": 4
}
